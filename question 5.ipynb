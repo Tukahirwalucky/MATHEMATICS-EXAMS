{
 "cells": [
  {
   "cell_type": "code",
   "execution_count": 2,
   "metadata": {},
   "outputs": [
    {
     "name": "stdout",
     "output_type": "stream",
     "text": [
      "result:\n",
      "x = -1.0459770114942528\n",
      "y = -0.20114942528735613\n",
      "z = -2.408045977011494\n"
     ]
    }
   ],
   "source": [
    "#solving linear equations\n",
    "import numpy as np\n",
    "\n",
    "# Coefficients of matrix P\n",
    "P = np.array([[5, 2, -4],\n",
    "              [-1, -9, 7],\n",
    "              [-5, 5, 3]])\n",
    "\n",
    "# Constants vector T\n",
    "T = np.array([4, -14, -3])\n",
    "\n",
    "# Solve the system of equations\n",
    "X = np.linalg.solve(P, T)\n",
    "\n",
    "# Print the result\n",
    "print(\"result:\")\n",
    "print(\"x =\", X[0])\n",
    "print(\"y =\", X[1])\n",
    "print(\"z =\", X[2])\n"
   ]
  },
  {
   "cell_type": "code",
   "execution_count": null,
   "metadata": {},
   "outputs": [],
   "source": []
  }
 ],
 "metadata": {
  "kernelspec": {
   "display_name": "Python 3",
   "language": "python",
   "name": "python3"
  },
  "language_info": {
   "codemirror_mode": {
    "name": "ipython",
    "version": 3
   },
   "file_extension": ".py",
   "mimetype": "text/x-python",
   "name": "python",
   "nbconvert_exporter": "python",
   "pygments_lexer": "ipython3",
   "version": "3.11.6"
  }
 },
 "nbformat": 4,
 "nbformat_minor": 2
}
