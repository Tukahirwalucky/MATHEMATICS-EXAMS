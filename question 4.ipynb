{
 "cells": [
  {
   "cell_type": "code",
   "execution_count": 1,
   "metadata": {},
   "outputs": [
    {
     "name": "stdout",
     "output_type": "stream",
     "text": [
      "[[ 1.56521739  0.86956522 -1.47826087]\n",
      " [ 0.86956522  3.26086957 -3.04347826]\n",
      " [-1.47826087 -3.04347826  4.17391304]]\n"
     ]
    }
   ],
   "source": [
    "#construct a matrix below\n",
    "\n",
    "import numpy as np\n",
    "\n",
    "matrix=([[1, 0.2, 0.5],\n",
    "         [0.2, 1, 0.8],\n",
    "         [0.5, 0.8, 1]])\n",
    "\n",
    "inverse_matrix = np.linalg.inv(matrix)\n",
    "print(inverse_matrix)"
   ]
  },
  {
   "cell_type": "code",
   "execution_count": 3,
   "metadata": {},
   "outputs": [
    {
     "name": "stdout",
     "output_type": "stream",
     "text": [
      "0.2299999999999999\n"
     ]
    }
   ],
   "source": [
    "#determinant of the matrix\n",
    "\n",
    "import numpy as np\n",
    "matrix=([[1, 0.2, 0.5],\n",
    "         [0.2, 1, 0.8],\n",
    "         [0.5, 0.8, 1]])\n",
    "\n",
    "determinant_matrix = np.linalg.det(matrix)\n",
    "print(determinant_matrix)"
   ]
  },
  {
   "cell_type": "code",
   "execution_count": 7,
   "metadata": {},
   "outputs": [
    {
     "name": "stdout",
     "output_type": "stream",
     "text": [
      "EigResult(eigenvalues=array([2.04100779, 0.82188052, 0.13711169]), eigenvectors=array([[-0.43721717, -0.85359707, -0.28321933],\n",
      "       [-0.59931898,  0.51133314, -0.61591816],\n",
      "       [-0.67056536,  0.09955128,  0.73514055]]))\n"
     ]
    }
   ],
   "source": [
    "#decomposing a matrix(eigen values)\n",
    "\n",
    "import numpy as np\n",
    "matrix=([[1, 0.2, 0.5],\n",
    "         [0.2, 1, 0.8],\n",
    "         [0.5, 0.8, 1]])\n",
    "\n",
    "decomposed_matrix = np.linalg.eig(matrix)\n",
    "print(decomposed_matrix)"
   ]
  },
  {
   "cell_type": "code",
   "execution_count": 8,
   "metadata": {},
   "outputs": [
    {
     "name": "stdout",
     "output_type": "stream",
     "text": [
      "original matrix:\n",
      "[[1.  0.2 0.5]\n",
      " [0.2 1.  0.8]\n",
      " [0.5 0.8 1. ]]\n",
      "\n",
      "Transposed Mtrix:\n",
      "[[1.  0.2 0.5]\n",
      " [0.2 1.  0.8]\n",
      " [0.5 0.8 1. ]]\n"
     ]
    }
   ],
   "source": [
    "#transforming a matrix\n",
    "import numpy as np\n",
    "\n",
    "matrix = np.array([[1, 0.2, 0.5],\n",
    "                   [0.2, 1, 0.8],\n",
    "                   [0.5, 0.8, 1]])\n",
    "\n",
    "#transpose a matrix\n",
    "transposed_matrix = np.transpose(matrix)\n",
    "\n",
    "#print the original and transposed matrix\n",
    "\n",
    "print(\"original matrix:\")\n",
    "print(matrix)\n",
    "print(\"\\nTransposed Mtrix:\")\n",
    "print(transposed_matrix)"
   ]
  }
 ],
 "metadata": {
  "kernelspec": {
   "display_name": "Python 3",
   "language": "python",
   "name": "python3"
  },
  "language_info": {
   "codemirror_mode": {
    "name": "ipython",
    "version": 3
   },
   "file_extension": ".py",
   "mimetype": "text/x-python",
   "name": "python",
   "nbconvert_exporter": "python",
   "pygments_lexer": "ipython3",
   "version": "3.11.6"
  }
 },
 "nbformat": 4,
 "nbformat_minor": 2
}
